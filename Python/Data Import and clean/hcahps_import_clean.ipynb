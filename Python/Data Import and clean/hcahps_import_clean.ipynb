{
 "cells": [
  {
   "cell_type": "code",
   "execution_count": null,
   "metadata": {
    "scrolled": true
   },
   "outputs": [],
   "source": [
    "import os\n",
    "os.chdir('C:\\\\Users\\\\adamg\\\\Documents\\\\Medical Research data\\\\'\n",
    "    'Data Models\\\\Patient Experience\\\\Data_Imports')"
   ]
  },
  {
   "cell_type": "code",
   "execution_count": null,
   "metadata": {},
   "outputs": [],
   "source": [
    "# Import HCAHPS linear survey data summarized at hospital level\n",
    "# Publisher\tCenters for Medicare & Medicaid Services\n",
    "# Download using json and archive data as csv\n",
    "\n",
    "import pandas as pd\n",
    "\n",
    "url = ('https://data.medicare.gov/resource/rmgi-5fhi.json?$limit=500000')\n",
    "pd.read_json(url, orient='records')\n",
    "\n",
    "hcahpsdt = pd.read_json(url, orient='records')\n",
    "\n",
    "hcahpsdt.to_csv('HCAHPS_linear_survey_summary_data_07192019.csv', header=True)"
   ]
  },
  {
   "cell_type": "code",
   "execution_count": null,
   "metadata": {},
   "outputs": [],
   "source": [
    "# Confirm integrity of primary key colum 'provider_id'\n",
    "hcahpsdt.index"
   ]
  },
  {
   "cell_type": "code",
   "execution_count": null,
   "metadata": {},
   "outputs": [],
   "source": [
    "# Confirm row count match expected count located on Data.Medicare.gov:  chrome-extension://klbibkeccnjlkjkiokjodocebajanakg/suspended.html#ttl=Patient%20survey%20(HCAHPS)%20-%20Hospital%20%7C%20Data.Medicare.gov&pos=692.7999877929688&uri=https://data.medicare.gov/Hospital-Compare/Patient-survey-HCAHPS-Hospital/dgck-syfz\n",
    "\n",
    "# Set erc to expected row count\n",
    "\n",
    "erc = 245450\n",
    "rc = len(hcahpsdt.index)\n",
    "\n",
    "if erc < rc:\n",
    "    print('Actual row count greater than expected by: ' + str(rc - erc) + ' row(s)')\n",
    "elif erc > rc:\n",
    "    print('Missing ' + str(erc - rc)+ ' rows')\n",
    "elif erc == rc:\n",
    "    print('Row counts match!')\n",
    "else:\n",
    "    print('Expected to actual row comparison not working')"
   ]
  },
  {
   "cell_type": "code",
   "execution_count": null,
   "metadata": {},
   "outputs": [],
   "source": [
    "# Check actual column count vs expected using shape opperator to save on memory\n",
    "\n",
    "#Set ecc to expected column count\n",
    "\n",
    "ecc= 29\n",
    "\n",
    "acc = hcahpsdt.shape[1]\n",
    "\n",
    "if ecc < acc:\n",
    "    print('Actual column count greater than expected by: ' + str(acc - ecc) + ' column(s)')\n",
    "elif ecc > acc:\n",
    "    print('Missing ' + str(ecc - acc)+ ' columns')\n",
    "elif ecc == acc:\n",
    "    print('Column counts match!')\n",
    "else:\n",
    "    print('Expected to actual column comparison not working')"
   ]
  },
  {
   "cell_type": "code",
   "execution_count": null,
   "metadata": {},
   "outputs": [],
   "source": [
    "# Evaluate data types\n",
    "hcahpsdt.dtypes\n",
    "\n",
    "# Notes: \n",
    "#   hcahps_linear_mean_value is not int, investigate missing or char values in column\n",
    "#   "
   ]
  },
  {
   "cell_type": "code",
   "execution_count": null,
   "metadata": {},
   "outputs": [],
   "source": [
    "hcahpsdt.head(100)\n",
    "\n",
    "# Null valuesin linear mean variables will be handled in BI tool"
   ]
  },
  {
   "cell_type": "code",
   "execution_count": null,
   "metadata": {},
   "outputs": [],
   "source": [
    "import csv\n",
    "from pprint import pprint"
   ]
  },
  {
   "cell_type": "code",
   "execution_count": null,
   "metadata": {},
   "outputs": [],
   "source": [
    "csv_file = open(\"HCAHPS_linear_survey_summary_data_07192019.csv\")\n",
    "reader = csv.reader(csv_file)"
   ]
  },
  {
   "cell_type": "code",
   "execution_count": null,
   "metadata": {},
   "outputs": [],
   "source": [
    "line = next(csv_file)"
   ]
  },
  {
   "cell_type": "code",
   "execution_count": null,
   "metadata": {},
   "outputs": [],
   "source": [
    "print(line)"
   ]
  },
  {
   "cell_type": "code",
   "execution_count": null,
   "metadata": {},
   "outputs": [],
   "source": [
    "hcahpsdt = hcahpsdt.set_index('provider_id')"
   ]
  }
 ],
 "metadata": {
  "kernelspec": {
   "display_name": "Python 3",
   "language": "python",
   "name": "python3"
  },
  "language_info": {
   "codemirror_mode": {
    "name": "ipython",
    "version": 3
   },
   "file_extension": ".py",
   "mimetype": "text/x-python",
   "name": "python",
   "nbconvert_exporter": "python",
   "pygments_lexer": "ipython3",
   "version": "3.7.3"
  }
 },
 "nbformat": 4,
 "nbformat_minor": 2
}

